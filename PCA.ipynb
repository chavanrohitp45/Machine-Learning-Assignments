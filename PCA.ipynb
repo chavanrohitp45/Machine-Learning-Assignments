{
  "nbformat": 4,
  "nbformat_minor": 0,
  "metadata": {
    "colab": {
      "provenance": []
    },
    "kernelspec": {
      "name": "python3",
      "display_name": "Python 3"
    },
    "language_info": {
      "name": "python"
    }
  },
  "cells": [
    {
      "cell_type": "code",
      "execution_count": null,
      "metadata": {
        "id": "vnqMG4YhIhFR"
      },
      "outputs": [],
      "source": [
        "import pandas as pd\n",
        "import numpy as np\n",
        "import matplotlib.pyplot as plt\n",
        "from sklearn.decomposition import PCA\n",
        "from sklearn.preprocessing import StandardScaler\n",
        "%matplotlib inline\n",
        "df=pd.read_csv(\"C:\\Data Set\\IRIS.csv\")\n",
        "df\n",
        "#\n",
        "df.shape\n",
        "df.columns\n",
        "df.dtypes\n",
        "#\n",
        "df.describe()\n",
        "features = ['sepal_length', 'sepal_width', 'petal_length', 'petal_width']\n",
        "x = df.loc[:, features].values\n",
        "#\n",
        "y = df.loc[:,['species']].values\n",
        "#\n",
        "x = StandardScaler().fit_transform(x)\n",
        "pd.DataFrame(data = x, columns = features).head()\n",
        "#\n",
        "#PCA Projection to 2D\n",
        "pca = PCA(n_components=2)\n",
        "principalComponents = pca.fit_transform(x)\n",
        "principalDf = pd.DataFrame(data = principalComponents\n",
        "             , columns = ['principal component 1', 'principal component 2'])\n",
        "principalDf.head(5)\n",
        "df[['species']].head()\n",
        "finalDf = pd.concat([principalDf, df[['species']]], axis = 1)\n",
        "finalDf.head(5)\n",
        "fig = plt.figure(figsize = (8,8))\n",
        "ax = fig.add_subplot(1,1,1)\n",
        "ax.set_xlabel('Principal Component 1', fontsize = 15)\n",
        "ax.set_ylabel('Principal Component 2', fontsize = 15)\n",
        "ax.set_title('2 Component PCA', fontsize = 20)\n",
        "\n",
        "\n",
        "targets = ['setosa', 'versicolor', 'virginica']\n",
        "colors = ['r', 'g', 'b']\n",
        "for species, color in zip(targets,colors):\n",
        "    indicesToKeep = finalDf['species'] == species\n",
        "    ax.scatter(finalDf.loc[indicesToKeep, 'principal component 1']\n",
        "               , finalDf.loc[indicesToKeep, 'principal component 2']\n",
        "               , c = color\n",
        "               , s = 50)\n",
        "ax.legend(targets)\n",
        "ax.grid()\n",
        "#Explained Variance:The explained variance tells us how much information (variance)\n",
        "#can be attributed to each of the principal components.\n",
        "pca.explained_variance_ratio_"
      ]
    }
  ]
}