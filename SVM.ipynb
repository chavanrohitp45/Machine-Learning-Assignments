{
  "nbformat": 4,
  "nbformat_minor": 0,
  "metadata": {
    "colab": {
      "provenance": []
    },
    "kernelspec": {
      "name": "python3",
      "display_name": "Python 3"
    },
    "language_info": {
      "name": "python"
    }
  },
  "cells": [
    {
      "cell_type": "code",
      "execution_count": null,
      "metadata": {
        "id": "cTeZYamZN7Id"
      },
      "outputs": [],
      "source": [
        "# Load the important packages\n",
        "from sklearn.datasets import load_breast_cancer\n",
        "import matplotlib.pyplot as plt\n",
        "from sklearn.inspection import DecisionBoundaryDisplay\n",
        "from sklearn.svm import SVC\n",
        "#\n",
        "# Load the datasets\n",
        "cancer = load_breast_cancer()\n",
        "X = cancer.data[:, :2]\n",
        "y = cancer.target\n",
        "#\n",
        "#Build the model\n",
        "svm = SVC(kernel=\"linear\")\n",
        "# Trained the model\n",
        "svm.fit(X, y)\n",
        "\n",
        "# Plot Decision Boundary\n",
        "DecisionBoundaryDisplay.from_estimator(\n",
        "    svm,\n",
        "    X,\n",
        "    response_method=\"predict\",\n",
        "    cmap=plt.cm.Spectral,\n",
        "    alpha=0.8,\n",
        "    xlabel=cancer.feature_names[0],\n",
        "    ylabel=cancer.feature_names[1],\n",
        ")\n",
        "\n",
        "# Scatter plot\n",
        "plt.scatter(X[:, 0], X[:, 1],\n",
        "c=y,\n",
        "s=20, edgecolors=\"k\")\n",
        "plt.show()\n",
        "#\n",
        "#Build the model\n",
        "svm = SVC(kernel=\"rbf\", gamma=0.5, C=1.0)\n",
        "# Trained the model\n",
        "svm.fit(X, y)\n",
        "\n",
        "# Plot Decision Boundary\n",
        "DecisionBoundaryDisplay.from_estimator(\n",
        "    svm,\n",
        "    X,\n",
        "    response_method=\"predict\",\n",
        "    cmap=plt.cm.Spectral,\n",
        "    alpha=0.8,\n",
        "    xlabel=cancer.feature_names[0],\n",
        "    ylabel=cancer.feature_names[1],\n",
        ")\n",
        "\n",
        "# Scatter plot\n",
        "plt.scatter(X[:, 0], X[:, 1],\n",
        "c=y,\n",
        "s=20, edgecolors=\"k\")\n",
        "plt.show()"
      ]
    }
  ]
}